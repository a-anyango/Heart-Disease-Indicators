{
 "cells": [
  {
   "cell_type": "markdown",
   "id": "a99e4116",
   "metadata": {},
   "source": [
    "## Importing Libraries and Visualization Design\n",
    "Necessary Python libraries for data analysis and visualization are imported, and the seaborn style is configured, along with the definition of color palettes."
   ]
  },
  {
   "cell_type": "code",
   "execution_count": null,
   "id": "2922fc9d",
   "metadata": {},
   "outputs": [],
   "source": [
    "import pandas as pd\n",
    "from ydata_profiling import ProfileReport\n",
    "import numpy as np\n",
    "import matplotlib.pyplot as plt\n",
    "import seaborn as sns\n",
    "import plotly.express as px\n",
    "from pywaffle.waffle import Waffle\n",
    "%matplotlib inline\n",
    "sns.set_style(\"darkgrid\")\n",
    "\n",
    "colors6 = sns.color_palette(['#1337f5', '#E80000', '#0f1e41', '#fd523e', '#404e5c', '#c9bbaa'], 6)\n",
    "colors2 = sns.color_palette(['#1337f5', '#E80000'], 2)\n",
    "colors1 = sns.color_palette(['#1337f5'], 1)"
   ]
  },
  {
   "cell_type": "markdown",
   "id": "c765ec41",
   "metadata": {},
   "source": [
    "## Data Reading"
   ]
  },
  {
   "cell_type": "markdown",
   "id": "ce3bd6a7",
   "metadata": {},
   "source": [
    "The code reads a CSV file into a Pandas DataFrame and displays the first few rows."
   ]
  },
  {
   "cell_type": "code",
   "execution_count": null,
   "id": "ea131e40",
   "metadata": {},
   "outputs": [],
   "source": [
    "df = pd.read_csv(\"data/dataset.csv\")\n",
    "df.head()"
   ]
  },
  {
   "cell_type": "code",
   "execution_count": null,
   "id": "c17c0379",
   "metadata": {},
   "outputs": [],
   "source": [
    "profile = ProfileReport(df, title=\"Profiling Report\")"
   ]
  },
  {
   "cell_type": "code",
   "execution_count": null,
   "id": "7de6a53d",
   "metadata": {},
   "outputs": [],
   "source": [
    "df.info()"
   ]
  },
  {
   "cell_type": "markdown",
   "id": "225dec94",
   "metadata": {},
   "source": [
    "This section describes  statistical summary measures for the numerical columns in the Pandas DataFrame."
   ]
  },
  {
   "cell_type": "code",
   "execution_count": null,
   "id": "72cf6421",
   "metadata": {},
   "outputs": [],
   "source": [
    "df.describe()"
   ]
  },
  {
   "cell_type": "markdown",
   "id": "3081ed6f",
   "metadata": {},
   "source": [
    "This section provides more information for the categorical columns in the Pandas DataFrame."
   ]
  },
  {
   "cell_type": "code",
   "execution_count": null,
   "id": "b07a283f",
   "metadata": {},
   "outputs": [],
   "source": [
    "df.describe(include=\"object\")"
   ]
  },
  {
   "cell_type": "markdown",
   "id": "2889d540",
   "metadata": {},
   "source": [
    "## EDA\n",
    "In exploratory data analysis (EDA), data patterns and insights are uncovered through the examination of key statistical measures, visualizations, and distributions, providing a foundational understanding of the heart disease indicators dataset's structure and characteristics."
   ]
  },
  {
   "cell_type": "code",
   "execution_count": null,
   "id": "ae414412",
   "metadata": {},
   "outputs": [],
   "source": [
    "def show_relation(col, according_to, type_='dis'):\n",
    "    \n",
    "    plt.figure(figsize=(15, 7))\n",
    "    \n",
    "    if type_ == 'dis':\n",
    "        sns.displot(data=df, x=col, hue=according_to, kind='kde', palette=colors2)\n",
    "    elif type_ == 'count':\n",
    "        if according_to is not None:\n",
    "            perc = df.groupby(col)[according_to].value_counts(normalize=True).reset_index(name='Percentage')\n",
    "            sns.barplot(data=perc, x=col, y='Percentage', hue=according_to, palette=colors6,\n",
    "                        order=df[col].value_counts().index)\n",
    "        else:\n",
    "            sns.countplot(data=df, x=col, hue=according_to, palette=colors1, order=df[col].value_counts().index)\n",
    "    \n",
    "    if according_to is None:\n",
    "        plt.title(f'{col}')\n",
    "    else:\n",
    "        plt.title(f'{col} in relation to {according_to}')"
   ]
  },
  {
   "cell_type": "markdown",
   "id": "259a2ccf",
   "metadata": {},
   "source": [
    "Percentage of people in the dataset with heart disease"
   ]
  },
  {
   "cell_type": "code",
   "execution_count": null,
   "id": "0fc5ef3f",
   "metadata": {},
   "outputs": [],
   "source": [
    "plt.pie(disease_size.values(), labels=disease_size.keys(), autopct='%1.1f%%', colors=colors2)\n",
    "plt.title('Heart Disease Percentage')\n",
    "plt.show()"
   ]
  },
  {
   "cell_type": "markdown",
   "id": "82a94b41",
   "metadata": {},
   "source": [
    "Exploring the relatinship between BMI and heart disease"
   ]
  },
  {
   "cell_type": "code",
   "execution_count": null,
   "id": "8b1f271b",
   "metadata": {},
   "outputs": [],
   "source": [
    "obj_cols = df.select_dtypes(include='object').columns[1:]\n",
    "num_cols = df.select_dtypes(exclude='object').columns\n",
    "print(f'Object columns : {obj_cols}', end='\\n\\n')\n",
    "print(f'Numberical columns : {num_cols}')"
   ]
  },
  {
   "cell_type": "code",
   "execution_count": null,
   "id": "62a83ea7",
   "metadata": {},
   "outputs": [],
   "source": [
    "show_relation(num_cols[0], 'HeartDisease');"
   ]
  },
  {
   "cell_type": "markdown",
   "id": "d28a8af5",
   "metadata": {},
   "source": [
    "Exploring the relationship between BMI and the diseases/illnesses in the dataset"
   ]
  },
  {
   "cell_type": "code",
   "execution_count": null,
   "id": "74ee8e0d",
   "metadata": {},
   "outputs": [],
   "source": [
    "fig, ax = plt.subplots(figsize = (14,6))\n",
    "sns.kdeplot(df[df[\"HeartDisease\"]=='Yes'][\"BMI\"], alpha=1,shade = False, color=colors6[0], label=\"HeartDisease\", ax = ax)\n",
    "sns.kdeplot(df[df[\"KidneyDisease\"]=='Yes'][\"BMI\"], alpha=1,shade = False, color=colors6[1], label=\"KidneyDisease\", ax = ax)\n",
    "sns.kdeplot(df[df[\"SkinCancer\"]=='Yes'][\"BMI\"], alpha=1,shade = False, color=colors6[2], label=\"SkinCancer\", ax = ax)\n",
    "sns.kdeplot(df[df[\"Asthma\"]=='Yes'][\"BMI\"], alpha=1,shade = False, color=colors6[3], label=\"Asthma\", ax = ax)\n",
    "sns.kdeplot(df[df[\"Stroke\"]=='Yes'][\"BMI\"], alpha=1,shade = False, color=colors6[4], label=\"Stroke\", ax = ax)\n",
    "sns.kdeplot(df[df[\"Diabetic\"]=='Yes'][\"BMI\"], alpha=1,shade = False, color=colors6[5], label=\"Diabetic\", ax = ax)\n",
    "\n",
    "ax.set_xlabel(\"BMI\")\n",
    "ax.set_ylabel(\"Frequency\")\n",
    "ax.legend(bbox_to_anchor=(1.02, 1), loc=2, borderaxespad=0.)\n",
    "plt.show()"
   ]
  },
  {
   "cell_type": "markdown",
   "id": "33cf33c6",
   "metadata": {},
   "source": [
    "Exploring the relationship between Mental health and heart disease"
   ]
  },
  {
   "cell_type": "code",
   "execution_count": null,
   "id": "d0a762ab",
   "metadata": {},
   "outputs": [],
   "source": [
    "show_relation(num_cols[2], 'HeartDisease')"
   ]
  },
  {
   "cell_type": "markdown",
   "id": "5f83b582",
   "metadata": {},
   "source": [
    "Exploring the relationship between Age and heart disease"
   ]
  },
  {
   "cell_type": "code",
   "execution_count": null,
   "id": "d4a83714",
   "metadata": {},
   "outputs": [],
   "source": [
    "fig, (ax1, ax2) = plt.subplots(ncols=2, figsize=(20, 6))\n",
    "\n",
    "sns.histplot(data=df.loc[df.HeartDisease == 'No'].sort_values(\"AgeCategory\"), x='AgeCategory',\n",
    "                  color=colors1, ax=ax1);\n",
    "ax1.set_title(\"Age Distribution of Poeple Without Heart Disease\")\n",
    "\n",
    "sns.histplot(data=df.loc[df.HeartDisease == 'Yes'].sort_values(\"AgeCategory\"), x='AgeCategory',\n",
    "                  color=colors2[1], ax=ax2);\n",
    "ax2.set_title(\"Age Distribution of Heart Disease Patients\")\n",
    "\n",
    "\n",
    "fig.tight_layout()"
   ]
  },
  {
   "cell_type": "markdown",
   "id": "07d8a4dd",
   "metadata": {},
   "source": [
    "Exploring the distribution of heart disease between genders"
   ]
  },
  {
   "cell_type": "code",
   "execution_count": null,
   "id": "cab0c779",
   "metadata": {},
   "outputs": [],
   "source": [
    "show_relation(obj_cols[4], 'HeartDisease', type_='count')"
   ]
  },
  {
   "cell_type": "markdown",
   "id": "8dd91fb2",
   "metadata": {},
   "source": [
    "Exploring the distribution of heart disease incidents among races"
   ]
  },
  {
   "cell_type": "code",
   "execution_count": null,
   "id": "6b7655ce",
   "metadata": {},
   "outputs": [],
   "source": [
    "plt.figure(figsize=(16, 6), dpi=80)\n",
    "x = df.groupby('Race').HeartDisease.value_counts(normalize=True).reset_index(name='Percentage')\n",
    "x = x.loc[x.HeartDisease == 'Yes'].sort_values('Percentage', ascending=False)\n",
    "\n",
    "sns.barplot(data=x, x='Race', y='Percentage', palette=colors6);"
   ]
  },
  {
   "cell_type": "markdown",
   "id": "3219bd95",
   "metadata": {},
   "source": [
    "Exploring the relationship between individual general health perception and heart disease"
   ]
  },
  {
   "cell_type": "code",
   "execution_count": null,
   "id": "ece589fb",
   "metadata": {},
   "outputs": [],
   "source": [
    "x = df.groupby('HeartDisease').GenHealth.value_counts(normalize=True).reset_index(name='Percentage')\n",
    "x = x.sort_values(by='GenHealth', key=lambda x: x.map({'Excellent': 0, \n",
    "                                                       'Very good': 1, \n",
    "                                                       'Good': 2, \n",
    "                                                       'Fair': 3, \n",
    "                                                       'Poor': 4} ))\n",
    "\n",
    "x.Percentage = round(x.Percentage * 100, 1) \n",
    "\n",
    "fig = px.bar(data_frame=x, x='Percentage', y='HeartDisease', color='GenHealth',\n",
    "       text=x.Percentage.map(lambda x: str(x) + '%'), \n",
    "       color_discrete_sequence=['#1337f5', '#E80000', '#0f1e41', '#fd523e', '#404e5c', '#c9bbaa'])\n",
    "fig.update_layout(title=\"What Individuals Say Their General Health Is\", title_x=0.5)\n",
    "\n",
    "fig.show()"
   ]
  },
  {
   "cell_type": "markdown",
   "id": "9852c6ad",
   "metadata": {},
   "source": [
    "Exploring the relationship between Sleep hours and incidents of Heart Disease in the dataset"
   ]
  },
  {
   "cell_type": "code",
   "execution_count": null,
   "id": "4fc8eae2",
   "metadata": {},
   "outputs": [],
   "source": [
    "relative = df.groupby('HeartDisease').SleepTime.value_counts(normalize=True).reset_index(name='Percentage')\n",
    "\n",
    "plt.figure(figsize=(16, 6), dpi=80)\n",
    "ax = sns.barplot(data=relative, x='SleepTime', y='Percentage', hue='HeartDisease', palette=colors2);\n",
    "\n",
    "ax.set_title(\"Percentage of Sleep Times by Heart Disease\");"
   ]
  },
  {
   "cell_type": "markdown",
   "id": "9f48d267",
   "metadata": {},
   "source": [
    "Exploring the relationship between Smoking and heart disease"
   ]
  },
  {
   "cell_type": "code",
   "execution_count": null,
   "id": "2f9d0b37",
   "metadata": {},
   "outputs": [],
   "source": [
    "show_relation(obj_cols[0], 'HeartDisease', type_='count')"
   ]
  },
  {
   "cell_type": "markdown",
   "id": "471d33c8",
   "metadata": {},
   "source": [
    "Exploring the perception smokers have of their general health"
   ]
  },
  {
   "cell_type": "code",
   "execution_count": null,
   "id": "bb2fe951",
   "metadata": {},
   "outputs": [],
   "source": [
    "show_relation('GenHealth', 'Smoking', 'count')"
   ]
  },
  {
   "cell_type": "markdown",
   "id": "e039881f",
   "metadata": {},
   "source": [
    "Exploring the relationship between Stroke incidents and Heart Disease"
   ]
  },
  {
   "cell_type": "code",
   "execution_count": null,
   "id": "8bbc3ce8",
   "metadata": {},
   "outputs": [],
   "source": [
    "show_relation(obj_cols[2], 'HeartDisease', type_='count')"
   ]
  },
  {
   "cell_type": "markdown",
   "id": "55cc0d86",
   "metadata": {},
   "source": [
    "Exploring the relationship between Diabetes and Heart Disease"
   ]
  },
  {
   "cell_type": "code",
   "execution_count": null,
   "id": "207e3000",
   "metadata": {},
   "outputs": [],
   "source": [
    "show_relation(obj_cols[7], 'HeartDisease', type_='count')"
   ]
  },
  {
   "cell_type": "markdown",
   "id": "9ecb8dbf",
   "metadata": {},
   "source": [
    "Exploring the relationship between Asthma and Heart Disease"
   ]
  },
  {
   "cell_type": "code",
   "execution_count": null,
   "id": "56e26cf0",
   "metadata": {},
   "outputs": [],
   "source": [
    "show_relation(obj_cols[10], 'HeartDisease', type_='count')"
   ]
  },
  {
   "cell_type": "markdown",
   "id": "59083e15",
   "metadata": {},
   "source": [
    "Exploring the relationship between Kidney and Heart Disease"
   ]
  },
  {
   "cell_type": "code",
   "execution_count": null,
   "id": "2ffb9fab",
   "metadata": {},
   "outputs": [],
   "source": [
    "show_relation(obj_cols[11], 'HeartDisease', type_='count')"
   ]
  }
 ],
 "metadata": {
  "kernelspec": {
   "display_name": "Python 3 (ipykernel)",
   "language": "python",
   "name": "python3"
  },
  "language_info": {
   "codemirror_mode": {
    "name": "ipython",
    "version": 3
   },
   "file_extension": ".py",
   "mimetype": "text/x-python",
   "name": "python",
   "nbconvert_exporter": "python",
   "pygments_lexer": "ipython3",
   "version": "3.11.5"
  }
 },
 "nbformat": 4,
 "nbformat_minor": 5
}
